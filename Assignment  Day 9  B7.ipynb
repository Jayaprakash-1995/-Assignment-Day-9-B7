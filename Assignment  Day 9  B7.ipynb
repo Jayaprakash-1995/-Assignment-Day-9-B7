{
 "cells": [
  {
   "cell_type": "markdown",
   "metadata": {},
   "source": [
    "# Assignment 1 Day 9"
   ]
  },
  {
   "cell_type": "code",
   "execution_count": 3,
   "metadata": {},
   "outputs": [],
   "source": [
    "def prime(num_n):\n",
    "    if num_n == 1:\n",
    "        return False\n",
    "    for i in range(2, num_n):\n",
    "        if num_n%i == 0:\n",
    "            return False\n",
    "        return True"
   ]
  },
  {
   "cell_type": "code",
   "execution_count": 5,
   "metadata": {},
   "outputs": [
    {
     "name": "stdout",
     "output_type": "stream",
     "text": [
      "Requirement already satisfied: pylint in c:\\users\\jayap\\appdata\\roaming\\python\\python38\\site-packages (2.5.3)\n",
      "Requirement already satisfied: isort<5,>=4.2.5 in c:\\users\\jayap\\appdata\\roaming\\python\\python38\\site-packages (from pylint) (4.3.21)\n",
      "Requirement already satisfied: astroid<=2.5,>=2.4.0 in c:\\users\\jayap\\appdata\\roaming\\python\\python38\\site-packages (from pylint) (2.4.2)\n",
      "Requirement already satisfied: toml>=0.7.1 in c:\\users\\jayap\\appdata\\roaming\\python\\python38\\site-packages (from pylint) (0.10.1)\n",
      "Requirement already satisfied: colorama; sys_platform == \"win32\" in c:\\users\\jayap\\anaconda3\\lib\\site-packages (from pylint) (0.4.3)\n",
      "Requirement already satisfied: mccabe<0.7,>=0.6 in c:\\users\\jayap\\appdata\\roaming\\python\\python38\\site-packages (from pylint) (0.6.1)\n",
      "Requirement already satisfied: wrapt~=1.11 in c:\\users\\jayap\\appdata\\roaming\\python\\python38\\site-packages (from astroid<=2.5,>=2.4.0->pylint) (1.12.1)\n",
      "Requirement already satisfied: six~=1.12 in c:\\users\\jayap\\appdata\\roaming\\python\\python38\\site-packages (from astroid<=2.5,>=2.4.0->pylint) (1.15.0)\n",
      "Requirement already satisfied: lazy-object-proxy==1.4.* in c:\\users\\jayap\\appdata\\roaming\\python\\python38\\site-packages (from astroid<=2.5,>=2.4.0->pylint) (1.4.3)\n"
     ]
    }
   ],
   "source": [
    "! pip install pylint"
   ]
  },
  {
   "cell_type": "code",
   "execution_count": 7,
   "metadata": {},
   "outputs": [
    {
     "name": "stdout",
     "output_type": "stream",
     "text": [
      "************* Module prime_number\n",
      "prime_number:1:0: F0001: No module named prime_number (fatal)\n"
     ]
    }
   ],
   "source": [
    "! pylint \"prime_number\"\n"
   ]
  },
  {
   "cell_type": "markdown",
   "metadata": {},
   "source": [
    "#  Assignment 2 Day 9"
   ]
  },
  {
   "cell_type": "code",
   "execution_count": 1,
   "metadata": {},
   "outputs": [
    {
     "ename": "IndentationError",
     "evalue": "unexpected indent (<ipython-input-1-6b968e668eeb>, line 12)",
     "output_type": "error",
     "traceback": [
      "\u001b[1;36m  File \u001b[1;32m\"<ipython-input-1-6b968e668eeb>\"\u001b[1;36m, line \u001b[1;32m12\u001b[0m\n\u001b[1;33m    temp = num;\u001b[0m\n\u001b[1;37m    ^\u001b[0m\n\u001b[1;31mIndentationError\u001b[0m\u001b[1;31m:\u001b[0m unexpected indent\n"
     ]
    }
   ],
   "source": [
    "print(\"Enter 'x' for exit.\");\n",
    "print(\"Enter the interval(starting and ending number):  \");\n",
    "start = input();\n",
    "if start == \"x\":\n",
    "    exit();\n",
    "else:\n",
    "        end = input();\n",
    "        lower = int(start);\n",
    "        upper = int(end);\n",
    "        for num in range(lower,upper+1):\n",
    "            tot = 0;\n",
    "                temp = num;\n",
    "                while temp != 0:\n",
    "                    dig = temp % 10;\n",
    "                    tot += dig ** 3;\n",
    "                    temp // = 10;\n",
    "                    if num == tot:\n",
    "                    print(num);\n",
    "                        \n",
    "                \n",
    "\n"
   ]
  },
  {
   "cell_type": "code",
   "execution_count": 9,
   "metadata": {},
   "outputs": [
    {
     "ename": "NameError",
     "evalue": "name 'num' is not defined",
     "output_type": "error",
     "traceback": [
      "\u001b[1;31m---------------------------------------------------------------------------\u001b[0m",
      "\u001b[1;31mNameError\u001b[0m                                 Traceback (most recent call last)",
      "\u001b[1;32m<ipython-input-9-c5f1439ec68e>\u001b[0m in \u001b[0;36m<module>\u001b[1;34m\u001b[0m\n\u001b[1;32m----> 1\u001b[1;33m \u001b[0mprint\u001b[0m\u001b[1;33m(\u001b[0m\u001b[0mnum\u001b[0m\u001b[1;33m)\u001b[0m\u001b[1;33m;\u001b[0m\u001b[1;33m\u001b[0m\u001b[1;33m\u001b[0m\u001b[0m\n\u001b[0m",
      "\u001b[1;31mNameError\u001b[0m: name 'num' is not defined"
     ]
    }
   ],
   "source": []
  },
  {
   "cell_type": "code",
   "execution_count": null,
   "metadata": {},
   "outputs": [],
   "source": []
  }
 ],
 "metadata": {
  "kernelspec": {
   "display_name": "Python 3",
   "language": "python",
   "name": "python3"
  },
  "language_info": {
   "codemirror_mode": {
    "name": "ipython",
    "version": 3
   },
   "file_extension": ".py",
   "mimetype": "text/x-python",
   "name": "python",
   "nbconvert_exporter": "python",
   "pygments_lexer": "ipython3",
   "version": "3.8.3"
  }
 },
 "nbformat": 4,
 "nbformat_minor": 4
}
